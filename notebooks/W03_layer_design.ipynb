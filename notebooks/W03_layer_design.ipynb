{
  "nbformat": 4,
  "nbformat_minor": 0,
  "metadata": {
    "colab": {
      "name": "W03-layer-design",
      "provenance": [],
      "collapsed_sections": [],
      "toc_visible": true,
      "include_colab_link": true
    },
    "kernelspec": {
      "name": "python3",
      "display_name": "Python 3"
    },
    "language_info": {
      "name": "python"
    }
  },
  "cells": [
    {
      "cell_type": "markdown",
      "metadata": {
        "id": "view-in-github",
        "colab_type": "text"
      },
      "source": [
        "<a href=\"https://colab.research.google.com/github/ajasja/RosettaCrashCourse/blob/main/notebooks/W03_layer_design.ipynb\" target=\"_parent\"><img src=\"https://colab.research.google.com/assets/colab-badge.svg\" alt=\"Open In Colab\"/></a>"
      ]
    },
    {
      "cell_type": "code",
      "execution_count": null,
      "metadata": {
        "id": "hgwIOeAMQh_P",
        "cellView": "form"
      },
      "outputs": [],
      "source": [
        "#@title Install pyrosetta \n",
        "#@markdown Run cells by clicking on the little ▶ play icon to the left of each cell or by going to Runtime->Run all. \n",
        "\n",
        "#@markdown Enter the user name and password obtained from https://els2.comotion.uw.edu/product/pyrosetta\n",
        "\n",
        "#@markdown The notebook must be connected to Google Drive. \n",
        "\n",
        "#@markdown Author: Ajasja Ljubetič (ajasja.ljubetic@gmail.com), inspired by https://nbviewer.org/github/RosettaCommons/PyRosetta.notebooks\n",
        "\n",
        "\n",
        "#only needed for colabfold\n",
        "!pip install pyrosettacolabsetup py3dmol https://github.com/RosettaCommons/pyrosetta_viewer3d/archive/main.zip --quiet\n",
        "import pyrosettacolabsetup; pyrosettacolabsetup.install_pyrosetta()"
      ]
    },
    {
      "cell_type": "code",
      "source": [
        "#@title Helper functions\n",
        "def view_single(pose):\n",
        "  import py3Dmol\n",
        "  import pyrosetta.distributed.io as io\n",
        "  view = py3Dmol.view(width=500, height=500)\n",
        "  view.addModel(io.to_pdbstring(pose),'pdb')\n",
        "  view.setStyle({'model': 0}, {\"cartoon\": True})\n",
        "  view.addStyle({'model': 0}, {\"stick\": True})\n",
        "  view.zoomTo()\n",
        "  view.show()\n",
        "  return None\n",
        "\n",
        "def compare_poses(pose1, pose2):\n",
        "  import py3Dmol\n",
        "  import pyrosetta.distributed.io as io\n",
        "  view = py3Dmol.view(width=500, height=500)\n",
        "  view.addModel(io.to_pdbstring(pose1),'pdb')\n",
        "  view.addModel(io.to_pdbstring(pose2),'pdb')\n",
        "  view.setStyle({'model': 0}, {\"cartoon\": {'color': 'orange'}})\n",
        "  view.addStyle({'model': 0}, {\"stick\": {'color': 'orange'}})\n",
        "  view.setStyle({'model': 1}, {\"cartoon\": {'color': 'blue'}})\n",
        "  view.addStyle({'model': 1}, {\"stick\": {'color': 'blue'}})\n",
        "  view.zoomTo()\n",
        "  view.show()\n",
        "  return None  \n"
      ],
      "metadata": {
        "id": "hz8yPcZjfSMS",
        "cellView": "form"
      },
      "execution_count": null,
      "outputs": []
    },
    {
      "cell_type": "code",
      "source": [
        "!pip install gdown -q\n",
        "#bundle-up-down-relooped.pdb\n",
        "!gdown 1FJM4xci6nNqE93BXLnhGrdv9Dg1E03y5"
      ],
      "metadata": {
        "id": "aMtKbWHIzuHb"
      },
      "execution_count": null,
      "outputs": []
    },
    {
      "cell_type": "markdown",
      "source": [
        "# Real world XML file"
      ],
      "metadata": {
        "id": "hybQsTo7HzwX"
      }
    },
    {
      "cell_type": "markdown",
      "source": [
        "The XML commenting out trick: Lines without the starting `<` are considered text and are ignored by the script parser.\n",
        "\n",
        "```XML\n",
        "<Add mover=\"softpack_core\"/>\n",
        "Add mover=\"softpack_bdry\"/>\n",
        "Add mover=\"softpack_surf\"/>\n",
        "<Add mover=\"hardmin_sconly\"/>\n",
        "```\n",
        "\n",
        "In the above example only `softpack_core` and `hardmin_sconly` movers would be excecuted."
      ],
      "metadata": {
        "id": "p2Gn0iFgW-SJ"
      }
    },
    {
      "cell_type": "code",
      "source": [
        "#@title LayerDesign.xml\n",
        "%%writefile LayerDesign.xml \n",
        "<ROSETTASCRIPTS>\n",
        "    <SCOREFXNS>\n",
        "        <ScoreFunction name=\"sfxn_soft_design\" weights=\"beta_nov16_soft\" /> \n",
        "        <ScoreFunction name=\"sfxn_design\" weights=\"beta_nov16\" >\n",
        "            <Reweight scoretype=\"sap_constraint\" weight=\"1.0\" />\n",
        "            <Reweight scoretype=\"coordinate_constraint\" weight=\"1.0\"/>\n",
        "        </ScoreFunction>\n",
        "        <ScoreFunction name=\"sfxn_design_cart\" weights=\"beta_nov16_cart\" >\n",
        "            <Reweight scoretype=\"sap_constraint\" weight=\"1.0\" />\n",
        "            <Reweight scoretype=\"coordinate_constraint\" weight=\"1.0\"/>\n",
        "        </ScoreFunction>       \n",
        "        <ScoreFunction name=\"sfxn_clean\" weights=\"beta_nov16\" />\n",
        "        <ScoreFunction name=\"sfxn_clean_cart\" weights=\"beta_nov16_cart\" />\n",
        "    </SCOREFXNS>\n",
        "\n",
        "    <RESIDUE_SELECTORS>\n",
        "\n",
        "\t\t<SecondaryStructure name=\"sheet\" overlap=\"0\" minH=\"3\" minE=\"2\" include_terminal_loops=\"false\" use_dssp=\"true\" ss=\"E\"/>\n",
        "\t\t<SecondaryStructure name=\"entire_loop\" overlap=\"0\" minH=\"3\" minE=\"2\" include_terminal_loops=\"true\" use_dssp=\"true\" ss=\"L\"/>\n",
        "\t\t<SecondaryStructure name=\"entire_helix\" overlap=\"0\" minH=\"3\" minE=\"2\" include_terminal_loops=\"false\" use_dssp=\"true\" ss=\"H\"/>\n",
        "\t\t<And name=\"helix_cap\" selectors=\"entire_loop\">\n",
        "\t\t\t<PrimarySequenceNeighborhood lower=\"1\" upper=\"0\" selector=\"entire_helix\"/>\n",
        "\t\t</And>\n",
        "\t\t<And name=\"helix_start\" selectors=\"entire_helix\">\n",
        "\t\t\t<PrimarySequenceNeighborhood lower=\"0\" upper=\"1\" selector=\"helix_cap\"/>\n",
        "\t\t</And>\n",
        "\t\t<And name=\"helix\" selectors=\"entire_helix\">\n",
        "\t\t\t<Not selector=\"helix_start\"/>\n",
        "\t\t</And>\n",
        "\t\t<And name=\"loop\" selectors=\"entire_loop\">\n",
        "\t\t\t<Not selector=\"helix_cap\"/>\n",
        "\t\t</And>\n",
        "\n",
        "        <Layer name=\"core\" use_sidechain_neighbors=\"true\" core_cutoff=\"4.9\" surface_cutoff=\"2.7\" sc_neighbor_dist_exponent=\"1\"  select_core=\"true\" />\n",
        "\t\t<Layer name=\"bdry\" use_sidechain_neighbors=\"true\" core_cutoff=\"4.9\" surface_cutoff=\"2.7\" sc_neighbor_dist_exponent=\"1\"  select_boundary=\"true\" />\t\t\n",
        "\t\t<Layer name=\"surf\" use_sidechain_neighbors=\"true\" core_cutoff=\"4.9\" surface_cutoff=\"2.7\" sc_neighbor_dist_exponent=\"1\"  select_surface=\"true\" />\n",
        "\n",
        "    </RESIDUE_SELECTORS>\n",
        "\n",
        "    <RESIDUE_LEVEL_TASK_OPERATIONS>\n",
        "        <PreventRepackingRLT name=\"fix\" />\n",
        "        <RestrictToRepackingRLT name=\"repack\" />\n",
        "        <IncludeCurrentRLT name=\"design\" />\n",
        "    </RESIDUE_LEVEL_TASK_OPERATIONS>    \n",
        "\n",
        "    <TASKOPERATIONS>\n",
        "       <IncludeCurrent name=\"ic\" /> //includes input pdbs rotamers\n",
        "\t   <LimitAromaChi2 name=\"limitaro\" chi2max=\"110\" chi2min=\"70\" include_trp=\"1\" /> //disallow extreme aromatic rotamers\n",
        "\t   <ExtraRotamersGeneric name=\"ex1_ex2\" ex1=\"1\" ex2=\"1\" /> //use ex1 ex2 rotamers\n",
        "       <RestrictToRepacking name=\"repack_only\" />\t//for minimize/repack\n",
        "\n",
        "       <ConsensusLoopDesign name=\"disallow_non_abego_aas\" include_adjacent_residues=\"1\"/>\n",
        "\n",
        "    <DesignRestrictions name=\"layer_design_nc\" >\n",
        "\t\t\t<Action selector_logic=\"surf AND ( helix OR sheet )\"\taas=\"EKRQT\" />\n",
        "\t\t\t<Action selector_logic=\"surf AND helix_start\"\t\t\taas=\"DEKRNQSTP\"/>\n",
        "\t\t\t<Action selector_logic=\"surf AND loop\"\t\t\t\t\taas=\"DEKRNQSTGP\" />\n",
        "\t\t\t<Action selector_logic=\"bdry AND helix\"\t\t\t    \taas=\"ILVAEKRQTWY\" />\n",
        "\t\t\t<Action selector_logic=\"bdry AND helix_start\"\t\t\taas=\"ILVADEKRNQSTWYP\"/>\n",
        "\t\t\t<Action selector_logic=\"bdry AND sheet\"\t\t\t    \taas=\"ILVADEKRNQSTYW\" />\n",
        "\t\t\t<Action selector_logic=\"bdry AND loop\"\t\t\t\t\taas=\"ILVAFDEKRNQSTGPYW\" />\n",
        "\t\t\t<Action selector_logic=\"core AND helix\"\t\t\t    \taas=\"ILVAF\" />\n",
        "\t\t\t<Action selector_logic=\"core AND helix_start\"\t\t\taas=\"ILVAFP\"/>\n",
        "\t\t\t<Action selector_logic=\"core AND sheet\"\t\t\t\t    aas=\"ILVAF\" />\n",
        "\t\t\t<Action selector_logic=\"core AND loop\"\t\t\t\t\taas=\"ILVAFGP\" />\n",
        "\t\t\t<Action selector_logic=\"helix_cap\"\t\t\t\t\t\taas=\"DNST\"/>\n",
        "\t\t</DesignRestrictions>\n",
        "\n",
        "    <DesignRestrictions name=\"design_core\" >\n",
        "\t\t\t<Action residue_level_operations=\"design\" selector_logic=\"core\" />\n",
        "\t\t\t<Action residue_level_operations=\"fix\"    selector_logic=\"bdry\"\t />\n",
        "\t\t\t<Action residue_level_operations=\"fix\"    selector_logic=\"surf\"\t />\n",
        "\t\t</DesignRestrictions>\n",
        "\n",
        "    <DesignRestrictions name=\"design_bdry\" >\n",
        "\t\t\t<Action residue_level_operations=\"repack\" selector_logic=\"core\" />\n",
        "\t\t\t<Action residue_level_operations=\"design\" selector_logic=\"bdry\"\t />\n",
        "\t\t\t<Action residue_level_operations=\"fix\"    selector_logic=\"surf\"\t />\n",
        "\t\t</DesignRestrictions>\n",
        "\n",
        "    <DesignRestrictions name=\"design_surf\" >\n",
        "\t\t\t<Action residue_level_operations=\"fix\"    selector_logic=\"core\" />\n",
        "\t\t\t<Action residue_level_operations=\"repack\" selector_logic=\"bdry\"\t />\n",
        "\t\t\t<Action residue_level_operations=\"design\" selector_logic=\"surf\"\t />\n",
        "\t\t</DesignRestrictions>\n",
        "    </TASKOPERATIONS>\n",
        "\n",
        "    <SIMPLE_METRICS>\n",
        "\n",
        "        <SapScoreMetric name=\"sap_score\" />\n",
        "        <PerResidueSapScoreMetric name=\"per_res_sap\" />\n",
        "\n",
        "        <SelectedResidueCountMetric name=\"num_res_all\"  />\n",
        "        <TotalEnergyMetric name=\"total_score\" scoretype=\"total_score\" scorefxn=\"sfxn_clean\" />    \n",
        "        <CalculatorMetric name=\"score_per_res\" equation=\"total_score / num_res_all\" >\n",
        "            <Var name=\"total_score\" metric=\"total_score\" />\n",
        "            <Var name=\"num_res_all\" metric=\"num_res_all\" />\n",
        "        </CalculatorMetric>\n",
        "        <SequenceMetric name=\"seq\" custom_type=\"seq\" />\n",
        "    </SIMPLE_METRICS>\n",
        "\n",
        "    <FILTERS>\n",
        "\n",
        "        <NetCharge name=\"charge\" chain=\"1\" confidence=\"0\" />\n",
        "\n",
        "        <BuriedUnsatHbonds name=\"vbuns\"  report_all_heavy_atom_unsats=\"true\" scorefxn=\"sfxn_clean\" ignore_surface_res=\"true\" print_out_info_to_pdb=\"true\" atomic_depth_selection=\"5.5\" burial_cutoff=\"1000\" confidence=\"0\" />\n",
        "\t\t# For production setting dalpha_ball=1 is recommended. Se\n",
        "        <BuriedUnsatHbonds name=\"sbuns\"  report_all_heavy_atom_unsats=\"true\" scorefxn=\"sfxn_clean\" cutoff=\"4\" residue_surface_cutoff=\"20.0\" ignore_surface_res=\"true\" print_out_info_to_pdb=\"true\" \n",
        "        dalphaball_sasa=\"0\" probe_radius=\"1.1\" atomic_depth_selection=\"5.5\" atomic_depth_deeper_than=\"false\" confidence=\"0\" />\n",
        "        \n",
        "    </FILTERS>\n",
        "\n",
        "    <MOVERS>\n",
        "\n",
        "        <PackRotamersMover name=\"softpack_core\" scorefxn=\"sfxn_soft_design\" task_operations=\"design_core,layer_design_nc,ic,limitaro,ex1_ex2\" />\n",
        "        <PackRotamersMover name=\"softpack_bdry\" scorefxn=\"sfxn_soft_design\" task_operations=\"design_bdry,layer_design_nc,ic,limitaro,ex1_ex2\" />\n",
        "        <PackRotamersMover name=\"softpack_surf\" scorefxn=\"sfxn_soft_design\" task_operations=\"design_surf,layer_design_nc,ic,limitaro,ex1_ex2\" />\n",
        "        <PackRotamersMover name=\"hardpack_core\" scorefxn=\"sfxn_design\" task_operations=\"design_core,layer_design_nc,ic,limitaro,ex1_ex2\" />\n",
        "        <PackRotamersMover name=\"hardpack_bdry\" scorefxn=\"sfxn_design\" task_operations=\"design_bdry,layer_design_nc,ic,limitaro,ex1_ex2\" />\n",
        "        <PackRotamersMover name=\"hardpack_surf\" scorefxn=\"sfxn_design\" task_operations=\"design_surf,layer_design_nc,ic,limitaro,ex1_ex2\" />\n",
        "        <MinMover name=\"hardmin_sconly\" scorefxn=\"sfxn_clean\" bb=\"0\" chi=\"1\"   max_iter=\"2000\" type=\"lbfgs_armijo_nonmonotone\" tolerance=\".0001\"/>\n",
        "        <MinMover name=\"hardmin_bb_sc\" scorefxn=\"sfxn_clean\" bb=\"1\" chi=\"1\"   max_iter=\"2000\" type=\"lbfgs_armijo_nonmonotone\" tolerance=\".0001\"/>\n",
        "       \n",
        "        TaskAwareMinMover name=\"min_core\" chi=\"1\" bb=\"0\" jump=\"0\" max_iter=\"2000\" type=\"lbfgs_armijo_nonmonotone\" tolerance=\".001\" scorefxn=\"sfxn_design_cart\"\n",
        "        task_operations=\"design_core\" />\n",
        "        \n",
        "        TaskAwareMinMover name=\"task_min_all\" chi=\"1\" bb=\"1\" jump=\"0\" max_iter=\"2000\" type=\"lbfgs_armijo_nonmonotone\" tolerance=\".001\" scorefxn=\"sfxn_design_cart\"\n",
        "        task_operations=\"restrictions\" />\n",
        "\n",
        "        AddConstraintsToCurrentConformationMover name=\"add_backbone_cst\" use_distance_cst=\"0\" coord_dev=\"2.0\" CA_only=\"true\"/>\n",
        "\n",
        "         \n",
        "         AddSapConstraintMover name=\"add_sap\" speed=\"fast\" sap_goal=\"0\"  penalty_per_sap=\"3\"   packing_correction=\"0\" />\n",
        "\n",
        "    </MOVERS>\n",
        "\n",
        "    <PROTOCOLS>\n",
        "\n",
        "        <Add mover=\"softpack_core\"/>\n",
        "        Add mover=\"softpack_bdry\"/>\n",
        "        Add mover=\"softpack_surf\"/>\n",
        "        Add mover=\"hardmin_sconly\"/>\n",
        "        <Add mover=\"hardpack_core\"/>\n",
        "        <Add mover=\"hardpack_bdry\"/>\n",
        "        <Add mover=\"hardpack_surf\"/>        \n",
        "        <Add mover=\"hardmin_sconly\"/>\n",
        "        <Add mover=\"hardmin_bb_sc\"/>\n",
        "        <Add metrics=\"sap_score,per_res_sap\" />        \n",
        "        <Add filter=\"vbuns\" />\n",
        "        <Add filter=\"sbuns\" />\n",
        "\n",
        "        <Add filter=\"charge\" />\n",
        "\n",
        "\n",
        "        <Add metrics=\"seq,score_per_res\" />\n",
        " \n",
        "\n",
        "\n",
        "  \n",
        "    </PROTOCOLS>\n",
        "    <OUTPUT scorefxn=\"sfxn_clean_cart\" />\n",
        "</ROSETTASCRIPTS>\n"
      ],
      "metadata": {
        "id": "nMHiFKx0hmrd"
      },
      "execution_count": null,
      "outputs": []
    },
    {
      "cell_type": "code",
      "source": [
        "import pyrosetta; # import the pyrosetta package to access functionality\n",
        "import pyrosetta.distributed.io as io\n",
        "pyrosetta.init(\"-corrections::beta_nov16\") # must be called before any other pyrosetta functions. Can accept command line flags"
      ],
      "metadata": {
        "id": "78_StWmFpZF5"
      },
      "execution_count": null,
      "outputs": []
    },
    {
      "cell_type": "markdown",
      "source": [
        "## Inspecting the packer task\n",
        "PyRosetta makes it very easy to inspect and interact with objects defined in the XML. For example, printing the mover packer configuration is straightforward.\n"
      ],
      "metadata": {
        "id": "GLG3XYdST6Qg"
      }
    },
    {
      "cell_type": "code",
      "source": [
        "from pyrosetta.rosetta.protocols.rosetta_scripts import XmlObjects\n",
        "\n",
        "# Parse the script\n",
        "xml = XmlObjects().create_from_file(\"LayerDesign.xml\")\n",
        "# Extract the object of interest\n",
        "softpack_core = xml.get_mover('softpack_core')\n",
        "\n",
        "pose = pyrosetta.io.pose_from_pdb('bundle-up-down-relooped.pdb')\n",
        "#  Print the packer task\n",
        "print(softpack_core.task_factory().create_task_and_apply_taskoperations(pose))"
      ],
      "metadata": {
        "id": "Qtj4k58XUydK"
      },
      "execution_count": null,
      "outputs": []
    },
    {
      "cell_type": "markdown",
      "source": [
        "## Run the script\n"
      ],
      "metadata": {
        "id": "-U0EyWy1eDuD"
      }
    },
    {
      "cell_type": "code",
      "source": [
        "# Parse the script\n",
        "# xml = XmlObjects().create_from_file(\"LayerDesign.xml\")\n",
        "# get the main protocol\n",
        "protocol = xml.get_mover(\"ParsedProtocol\")\n",
        "\n",
        "\n",
        "pose = pyrosetta.io.pose_from_pdb('bundle-up-down-relooped.pdb')\n",
        "designed_pose = pose.clone()\n",
        "protocol.apply(designed_pose)\n",
        "designed_pose.dump_pdb('bundle-up-down-relooped-designed.pdb')\n"
      ],
      "metadata": {
        "id": "wPZWzbGXSa27"
      },
      "execution_count": null,
      "outputs": []
    },
    {
      "cell_type": "code",
      "source": [
        "view_single(designed_pose)\n",
        "designed_pose.sequence()\n"
      ],
      "metadata": {
        "id": "rySq-1K4QrtF"
      },
      "execution_count": null,
      "outputs": []
    },
    {
      "cell_type": "code",
      "source": [
        "from pyrosetta.rosetta.core.scoring import CA_rmsd\n",
        "from pyrosetta.rosetta.core.scoring import calpha_superimpose_pose\n",
        "\n",
        "calpha_superimpose_pose(designed_pose, pose)\n",
        "print(CA_rmsd(pose, designed_pose))\n",
        "\n",
        "compare_poses(pose, designed_pose)\n"
      ],
      "metadata": {
        "id": "lhhZQv9pWqyq"
      },
      "execution_count": null,
      "outputs": []
    },
    {
      "cell_type": "markdown",
      "source": [
        "## Inspect the pose\n",
        "Poses can be converted to a pandas Dataframe"
      ],
      "metadata": {
        "id": "ChXLQebJWuFH"
      }
    },
    {
      "cell_type": "code",
      "source": [
        "import pandas as pd\n",
        "df_scores = pd.DataFrame.from_records([designed_pose.scores])"
      ],
      "metadata": {
        "id": "Xe5F0z11ekl1"
      },
      "execution_count": null,
      "outputs": []
    },
    {
      "cell_type": "code",
      "source": [
        "# print all the available scores\n",
        "list(df_scores.columns)"
      ],
      "metadata": {
        "id": "2WKjoBYqenL5"
      },
      "execution_count": null,
      "outputs": []
    },
    {
      "cell_type": "code",
      "source": [
        "# show some of the interesting\n",
        "df_scores['total_score score_per_res charge sap_score vbuns sbuns'.split()]"
      ],
      "metadata": {
        "id": "sezxCak6fZuv"
      },
      "execution_count": null,
      "outputs": []
    },
    {
      "cell_type": "markdown",
      "source": [
        "## TASK 0: Chose the best core cutoff parameters\n"
      ],
      "metadata": {
        "id": "sfDmzsIEnr6J"
      }
    },
    {
      "cell_type": "code",
      "source": [
        "import viewer3d\n",
        "pose = pyrosetta.pose_from_pdb('/content/bundle-up-down-relooped.pdb')\n",
        "v = viewer3d.presets.coreBoundarySurface(pose, window_size=(600, 600))\n",
        "v.show()"
      ],
      "metadata": {
        "id": "aQqLPtMMouyt"
      },
      "execution_count": null,
      "outputs": []
    },
    {
      "cell_type": "markdown",
      "source": [
        "## TASK 1: Write a simple XML script that packs the core with ALA, ILE or VAL\n",
        "Hint: you can use create_from_string to write the XML inline\n",
        "```python\n",
        "XmlObjects().create_from_string(\"\"\"\n",
        "<XML script here>\n",
        "\"\"\")\n",
        "```"
      ],
      "metadata": {
        "id": "R9G8UzTTghvS"
      }
    },
    {
      "cell_type": "code",
      "source": [
        "### BEGIN SOLUTION\n",
        "from pyrosetta.io import pose_from_pdb\n",
        "pose=pose_from_pdb('/content/bundle-up-down-relooped.pdb')\n",
        "xml_repack_core = XmlObjects().create_from_string(f\"\"\"\n",
        "<ROSETTASCRIPTS>\n",
        "<SCOREFXNS>\n",
        "<ScoreFunction name=\"sfxn_soft_design\" weights=\"beta_nov16_soft\"/>\n",
        "<ScoreFunction name=\"sfxn_design\" weights=\"beta_nov16\">\n",
        "<Reweight scoretype=\"sap_constraint\" weight=\"1.0\"/>\n",
        "<Reweight scoretype=\"coordinate_constraint\" weight=\"1.0\"/>\n",
        "</ScoreFunction>\n",
        "<ScoreFunction name=\"sfxn_design_cart\" weights=\"beta_nov16_cart\">\n",
        "<Reweight scoretype=\"sap_constraint\" weight=\"1.0\"/>\n",
        "<Reweight scoretype=\"coordinate_constraint\" weight=\"1.0\"/>\n",
        "</ScoreFunction>\n",
        "<ScoreFunction name=\"sfxn_clean\" weights=\"beta_nov16\"/>\n",
        "<ScoreFunction name=\"sfxn_clean_cart\" weights=\"beta_nov16_cart\"/>\n",
        "</SCOREFXNS>\n",
        "<RESIDUE_SELECTORS>\n",
        "<SecondaryStructure name=\"sheet\" overlap=\"0\" minH=\"3\" minE=\"2\" include_terminal_loops=\"false\" use_dssp=\"true\" ss=\"E\"/>\n",
        "<SecondaryStructure name=\"entire_loop\" overlap=\"0\" minH=\"3\" minE=\"2\" include_terminal_loops=\"true\" use_dssp=\"true\" ss=\"L\"/>\n",
        "<SecondaryStructure name=\"entire_helix\" overlap=\"0\" minH=\"3\" minE=\"2\" include_terminal_loops=\"false\" use_dssp=\"true\" ss=\"H\"/>\n",
        "<And name=\"helix_cap\" selectors=\"entire_loop\">\n",
        "<PrimarySequenceNeighborhood lower=\"1\" upper=\"0\" selector=\"entire_helix\"/>\n",
        "</And>\n",
        "<And name=\"helix_start\" selectors=\"entire_helix\">\n",
        "<PrimarySequenceNeighborhood lower=\"0\" upper=\"1\" selector=\"helix_cap\"/>\n",
        "</And>\n",
        "<And name=\"helix\" selectors=\"entire_helix\">\n",
        "<Not selector=\"helix_start\"/>\n",
        "</And>\n",
        "<And name=\"loop\" selectors=\"entire_loop\">\n",
        "<Not selector=\"helix_cap\"/>\n",
        "</And>\n",
        "<Layer name=\"core\" use_sidechain_neighbors=\"true\" core_cutoff=\"6\" surface_cutoff=\"2.3\" sc_neighbor_dist_exponent=\"1\" select_core=\"true\"/>\n",
        "<Layer name=\"bdry\" use_sidechain_neighbors=\"true\" core_cutoff=\"6\" surface_cutoff=\"2.3\" sc_neighbor_dist_exponent=\"1\" select_boundary=\"true\"/>\n",
        "<Layer name=\"surf\" use_sidechain_neighbors=\"true\" core_cutoff=\"6\" surface_cutoff=\"2.3\" sc_neighbor_dist_exponent=\"1\" select_surface=\"true\"/>\n",
        "</RESIDUE_SELECTORS>\n",
        "<RESIDUE_LEVEL_TASK_OPERATIONS>\n",
        "<PreventRepackingRLT name=\"fix\"/>\n",
        "<RestrictToRepackingRLT name=\"repack\"/>\n",
        "<IncludeCurrentRLT name=\"design\"/>\n",
        "</RESIDUE_LEVEL_TASK_OPERATIONS>\n",
        "<TASKOPERATIONS>\n",
        "<IncludeCurrent name=\"ic\"/>\n",
        "//includes input pdbs rotamers\n",
        "<LimitAromaChi2 name=\"limitaro\" chi2max=\"110\" chi2min=\"70\" include_trp=\"1\"/>\n",
        "//disallow extreme aromatic rotamers\n",
        "<ExtraRotamersGeneric name=\"ex1_ex2\" ex1=\"1\" ex2=\"1\"/>\n",
        "//use ex1 ex2 rotamers\n",
        "<RestrictToRepacking name=\"repack_only\"/>\n",
        "//for minimize/repack\n",
        "<ConsensusLoopDesign name=\"disallow_non_abego_aas\" include_adjacent_residues=\"1\"/>\n",
        "<DesignRestrictions name=\"layer_design_nc\">\n",
        "<Action selector_logic=\"surf AND ( helix OR sheet )\" aas=\"EKRQT\"/>\n",
        "<Action selector_logic=\"surf AND helix_start\" aas=\"DEKRNQSTP\"/>\n",
        "<Action selector_logic=\"surf AND loop\" aas=\"DEKRNQSTGP\"/>\n",
        "<Action selector_logic=\"bdry AND helix\" aas=\"ILVAEKRQTWY\"/>\n",
        "<Action selector_logic=\"bdry AND helix_start\" aas=\"ILVADEKRNQSTWYP\"/>\n",
        "<Action selector_logic=\"bdry AND sheet\" aas=\"ILVADEKRNQSTYW\"/>\n",
        "<Action selector_logic=\"bdry AND loop\" aas=\"ILVAFDEKRNQSTGPYW\"/>\n",
        "<Action selector_logic=\"core AND helix\" aas=\"AIV\"/>\n",
        "<Action selector_logic=\"core AND helix_start\" aas=\"AIV\"/>\n",
        "<Action selector_logic=\"core AND sheet\" aas=\"AIV\"/>\n",
        "<Action selector_logic=\"core AND loop\" aas=\"AIV\"/>\n",
        "<Action selector_logic=\"helix_cap\" aas=\"DNST\"/>\n",
        "</DesignRestrictions>\n",
        "<DesignRestrictions name=\"design_core\">\n",
        "<Action residue_level_operations=\"design\" selector_logic=\"core\"/>\n",
        "<Action residue_level_operations=\"fix\" selector_logic=\"bdry\"/>\n",
        "<Action residue_level_operations=\"fix\" selector_logic=\"surf\"/>\n",
        "</DesignRestrictions>\n",
        "<DesignRestrictions name=\"design_bdry\">\n",
        "<Action residue_level_operations=\"repack\" selector_logic=\"core\"/>\n",
        "<Action residue_level_operations=\"design\" selector_logic=\"bdry\"/>\n",
        "<Action residue_level_operations=\"fix\" selector_logic=\"surf\"/>\n",
        "</DesignRestrictions>\n",
        "<DesignRestrictions name=\"design_surf\">\n",
        "<Action residue_level_operations=\"fix\" selector_logic=\"core\"/>\n",
        "<Action residue_level_operations=\"repack\" selector_logic=\"bdry\"/>\n",
        "<Action residue_level_operations=\"design\" selector_logic=\"surf\"/>\n",
        "</DesignRestrictions>\n",
        "</TASKOPERATIONS>\n",
        "<SIMPLE_METRICS>\n",
        "<SapScoreMetric name=\"sap_score\"/>\n",
        "<PerResidueSapScoreMetric name=\"per_res_sap\"/>\n",
        "<SelectedResidueCountMetric name=\"num_res_all\"/>\n",
        "<TotalEnergyMetric name=\"total_score\" scoretype=\"total_score\" scorefxn=\"sfxn_clean\"/>\n",
        "<CalculatorMetric name=\"score_per_res\" equation=\"total_score / num_res_all\">\n",
        "<Var name=\"total_score\" metric=\"total_score\"/>\n",
        "<Var name=\"num_res_all\" metric=\"num_res_all\"/>\n",
        "</CalculatorMetric>\n",
        "<SequenceMetric name=\"seq\" custom_type=\"seq\"/>\n",
        "</SIMPLE_METRICS>\n",
        "<FILTERS>\n",
        "<NetCharge name=\"charge\" chain=\"1\" confidence=\"0\"/>\n",
        "<BuriedUnsatHbonds name=\"vbuns\" report_all_heavy_atom_unsats=\"true\" scorefxn=\"sfxn_clean\" ignore_surface_res=\"true\" print_out_info_to_pdb=\"true\" atomic_depth_selection=\"5.5\" burial_cutoff=\"1000\" confidence=\"0\"/>\n",
        "# For production setting dalpha_ball=1 is recommended. Se\n",
        "<BuriedUnsatHbonds name=\"sbuns\" report_all_heavy_atom_unsats=\"true\" scorefxn=\"sfxn_clean\" cutoff=\"4\" residue_surface_cutoff=\"20.0\" ignore_surface_res=\"true\" print_out_info_to_pdb=\"true\" dalphaball_sasa=\"0\" probe_radius=\"1.1\" atomic_depth_selection=\"5.5\" atomic_depth_deeper_than=\"false\" confidence=\"0\"/>\n",
        "</FILTERS>\n",
        "<MOVERS>\n",
        "<PackRotamersMover name=\"softpack_core\" scorefxn=\"sfxn_soft_design\" task_operations=\"design_core,layer_design_nc,ic,limitaro,ex1_ex2\"/>\n",
        "<PackRotamersMover name=\"softpack_bdry\" scorefxn=\"sfxn_soft_design\" task_operations=\"design_bdry,layer_design_nc,ic,limitaro,ex1_ex2\"/>\n",
        "<PackRotamersMover name=\"softpack_surf\" scorefxn=\"sfxn_soft_design\" task_operations=\"design_surf,layer_design_nc,ic,limitaro,ex1_ex2\"/>\n",
        "<PackRotamersMover name=\"hardpack_core\" scorefxn=\"sfxn_design\" task_operations=\"design_core,layer_design_nc,ic,limitaro,ex1_ex2\"/>\n",
        "<PackRotamersMover name=\"hardpack_bdry\" scorefxn=\"sfxn_design\" task_operations=\"design_bdry,layer_design_nc,ic,limitaro,ex1_ex2\"/>\n",
        "<PackRotamersMover name=\"hardpack_surf\" scorefxn=\"sfxn_design\" task_operations=\"design_surf,layer_design_nc,ic,limitaro,ex1_ex2\"/>\n",
        "<MinMover name=\"hardmin_sconly\" scorefxn=\"sfxn_clean\" bb=\"0\" chi=\"1\" max_iter=\"2000\" type=\"lbfgs_armijo_nonmonotone\" tolerance=\".0001\"/>\n",
        "<MinMover name=\"hardmin_bb_sc\" scorefxn=\"sfxn_clean\" bb=\"1\" chi=\"1\" max_iter=\"2000\" type=\"lbfgs_armijo_nonmonotone\" tolerance=\".0001\"/>\n",
        "TaskAwareMinMover name=\"min_core\" chi=\"1\" bb=\"0\" jump=\"0\" max_iter=\"2000\" type=\"lbfgs_armijo_nonmonotone\" tolerance=\".001\" scorefxn=\"sfxn_design_cart\" task_operations=\"design_core\" /> TaskAwareMinMover name=\"task_min_all\" chi=\"1\" bb=\"1\" jump=\"0\" max_iter=\"2000\" type=\"lbfgs_armijo_nonmonotone\" tolerance=\".001\" scorefxn=\"sfxn_design_cart\" task_operations=\"restrictions\" /> AddConstraintsToCurrentConformationMover name=\"add_backbone_cst\" use_distance_cst=\"0\" coord_dev=\"2.0\" CA_only=\"true\"/> AddSapConstraintMover name=\"add_sap\" speed=\"fast\" sap_goal=\"0\" penalty_per_sap=\"3\" packing_correction=\"0\" />\n",
        "</MOVERS>\n",
        "<PROTOCOLS>\n",
        "<Add mover=\"softpack_core\"/>\n",
        "<Add mover=\"hardmin_sconly\"/>\n",
        "<Add mover=\"hardpack_core\"/>\n",
        "Add mover=\"hardmin_sconly\"/>\n",
        "Add mover=\"hardmin_bb_sc\"/>\n",
        "<Add metrics=\"sap_score,per_res_sap\"/>\n",
        "<Add filter=\"vbuns\"/>\n",
        "<Add filter=\"sbuns\"/>\n",
        "<Add filter=\"charge\"/>\n",
        "<Add metrics=\"seq,score_per_res\"/>\n",
        "</PROTOCOLS>\n",
        "<OUTPUT scorefxn=\"sfxn_clean_cart\"/>\n",
        "</ROSETTASCRIPTS>\n",
        "\"\"\")\n",
        "#get PDB to run repacker\n",
        "pose = pyrosetta.io.pose_from_pdb('bundle-up-down-relooped.pdb')\n",
        "#create a string in XML format from xml_repack_core variable\n",
        "#xml_protocol = XmlObjects().create_from_string('xml_repack_core')\n",
        "#get protocols from xml and name them protocol_repacker\n",
        "protocol_repacker=xml_repack_core.get_mover('ParsedProtocol')\n",
        "##apply protocols form xml script writtten above\n",
        "protocol_repacker.apply(pose)\n",
        "print(pose.sequence())\n",
        "pose.dump_pdb('test_pose')\n",
        "view_single(pose)\n",
        "### END SOLUTION"
      ],
      "metadata": {
        "id": "ehkSTkEQf5bQ"
      },
      "execution_count": null,
      "outputs": []
    },
    {
      "cell_type": "markdown",
      "source": [
        "## TASK 2: Write a simple XML script that packs the surface with K and E.\n",
        "\n",
        "Add also a `NetCharge` filter. Print the total score, socore per residue and the charge."
      ],
      "metadata": {
        "id": "kkrpKEtdf9nT"
      }
    },
    {
      "cell_type": "code",
      "source": [
        "### BEGIN SOLUTION\n",
        "\n",
        "### END SOLUTION"
      ],
      "metadata": {
        "id": "YDHHQO8KjGIu"
      },
      "execution_count": null,
      "outputs": []
    },
    {
      "cell_type": "markdown",
      "source": [
        "## TASK 3: Run the LayerDesign XML on your chosen relooped designs\n",
        "Use a for loop to load the pdbs and run the mover for each pose.\n",
        "\n",
        "Hint:\n",
        "\n",
        "Use the following code to loop over pdb files:\n",
        "```python\n",
        "from glob import glob\n",
        "for a_file in glob('*.pdb'):\n",
        "  print(a_file)\n",
        "```"
      ],
      "metadata": {
        "id": "r685kZCLhesg"
      }
    },
    {
      "cell_type": "code",
      "source": [
        "from glob import glob\n",
        "pdb_list = glob('*.pdb')"
      ],
      "metadata": {
        "id": "IX0Oi3GWjJfc"
      },
      "execution_count": null,
      "outputs": []
    },
    {
      "cell_type": "code",
      "source": [
        "### BEGIN SOLUTION\n",
        "from glob import glob\n",
        "from pyrosetta.rosetta.protocols.rosetta_scripts import XmlObjects\n",
        "xml = XmlObjects().create_from_file(\"LayerDesign.xml\")\n",
        "protocol = xml.get_mover(\"ParsedProtocol\")\n",
        "for pdb in pdb_list:\n",
        "  print(pdb)\n",
        "  \n",
        "  # Extract the object of interest\n",
        "\n",
        "  pose = pyrosetta.io.pose_from_pdb(pdb)\n",
        "  #  Print the packer task\n",
        "  try:\n",
        "    protocol.apply(pose)\n",
        "    pose.dump_pdb('designed_'+pdb)\n",
        "  except:\n",
        "    print(\"There was a problem with \"+pdb)\n",
        "### END SOLUTION"
      ],
      "metadata": {
        "id": "uddZYIWGjHNv"
      },
      "execution_count": null,
      "outputs": []
    }
  ]
}