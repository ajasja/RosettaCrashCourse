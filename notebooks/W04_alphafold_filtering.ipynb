{
  "nbformat": 4,
  "nbformat_minor": 0,
  "metadata": {
    "colab": {
      "name": "W04-alphafold-filtering",
      "provenance": [],
      "collapsed_sections": [],
      "include_colab_link": true
    },
    "kernelspec": {
      "name": "python3",
      "display_name": "Python 3"
    },
    "language_info": {
      "name": "python"
    }
  },
  "cells": [
    {
      "cell_type": "markdown",
      "metadata": {
        "id": "view-in-github",
        "colab_type": "text"
      },
      "source": [
        "<a href=\"https://colab.research.google.com/github/ajasja/RosettaCrashCourse/blob/main/notebooks/W04_alphafold_filtering.ipynb\" target=\"_parent\"><img src=\"https://colab.research.google.com/assets/colab-badge.svg\" alt=\"Open In Colab\"/></a>"
      ]
    },
    {
      "cell_type": "code",
      "execution_count": null,
      "metadata": {
        "id": "hgwIOeAMQh_P",
        "cellView": "form"
      },
      "outputs": [],
      "source": [
        "#@title Install pyrosetta \n",
        "#@markdown Run cells by clicking on the little ▶ play icon to the left of each cell or by going to Runtime->Run all. \n",
        "\n",
        "#@markdown Enter the user name and password obtained from https://els2.comotion.uw.edu/product/pyrosetta\n",
        "\n",
        "#@markdown The notebook must be connected to Google Drive. \n",
        "\n",
        "#@markdown Author: Ajasja Ljubetič (ajasja.ljubetic@gmail.com), inspired by https://nbviewer.org/github/RosettaCommons/PyRosetta.notebooks\n",
        "\n",
        "\n",
        "#only needed for colabfold\n",
        "!pip install pyrosettacolabsetup py3dmol https://github.com/RosettaCommons/pyrosetta_viewer3d/archive/main.zip --quiet\n",
        "import pyrosettacolabsetup; pyrosettacolabsetup.install_pyrosetta()"
      ]
    },
    {
      "cell_type": "code",
      "source": [
        "#@title Helper functions\n",
        "def view_single(pose):\n",
        "  import py3Dmol\n",
        "  import pyrosetta.distributed.io as io\n",
        "  view = py3Dmol.view(width=500, height=500)\n",
        "  view.addModel(io.to_pdbstring(pose),'pdb')\n",
        "  view.setStyle({'model': 0}, {\"cartoon\": True})\n",
        "  view.addStyle({'model': 0}, {\"stick\": True})\n",
        "  view.zoomTo()\n",
        "  view.show()\n",
        "  return None\n",
        "\n",
        "def compare_poses(pose1, pose2):\n",
        "  import py3Dmol\n",
        "  import pyrosetta.distributed.io as io\n",
        "  view = py3Dmol.view(width=500, height=500)\n",
        "  view.addModel(io.to_pdbstring(pose1),'pdb')\n",
        "  view.addModel(io.to_pdbstring(pose2),'pdb')\n",
        "  view.setStyle({'model': 0}, {\"cartoon\": {'color': 'orange'}})\n",
        "  view.addStyle({'model': 0}, {\"stick\": {'color': 'orange'}})\n",
        "  view.setStyle({'model': 1}, {\"cartoon\": {'color': 'blue'}})\n",
        "  view.addStyle({'model': 1}, {\"stick\": {'color': 'blue'}})\n",
        "  view.zoomTo()\n",
        "  view.show()\n",
        "  return None  \n"
      ],
      "metadata": {
        "id": "hz8yPcZjfSMS",
        "cellView": "form"
      },
      "execution_count": null,
      "outputs": []
    },
    {
      "cell_type": "markdown",
      "source": [
        "# Using Alphafold to filter sequnces.\n",
        "\n",
        "The purpose of filtering the sequences through AF2 is to increase the sucess rate of designs (in other words less synthetic genes need to be ordered) \n"
      ],
      "metadata": {
        "id": "O9D53qk3y_Kh"
      }
    },
    {
      "cell_type": "markdown",
      "source": [
        "## Task 1: obtain sequences of your designs\n",
        "\n",
        "Hint: use the `glob` function to iterate over a directory of PDB files, load each one in the pose and print the name of the file and the sequnce to a new fasta file\n",
        "\n",
        "Hint2: If you want to cheat use a webserver (https://zhanggroup.org/pdb2fasta/), but copy-paste gets boring after 10 structures:)\n"
      ],
      "metadata": {
        "id": "hybQsTo7HzwX"
      }
    },
    {
      "cell_type": "code",
      "source": [
        "### BEGIN SOLUTION\n",
        "\n",
        "### END SOLUTION"
      ],
      "metadata": {
        "id": "f19uuqrs_OYf"
      },
      "execution_count": null,
      "outputs": []
    },
    {
      "cell_type": "markdown",
      "source": [
        "## TASK 2: Predict the structures\n",
        "\n",
        "Use either [ColabFold](https://colab.research.google.com/github/sokrypton/ColabFold/blob/main/AlphaFold2.ipynb) or [ColabFold Batch](https://colab.research.google.com/github/sokrypton/ColabFold/blob/main/batch/AlphaFold2_batch.ipynb) to predict the structures."
      ],
      "metadata": {
        "id": "e-W8Y9Xa_VhU"
      }
    },
    {
      "cell_type": "markdown",
      "source": [
        "## Task 3: Compute the RMSD between the designed and AF2 predicted pose\n",
        "\n",
        "Hint: Name your designed and AF2 predicted PDBs in a systematic way and iterate over them. Use the `CA_rmsd` function and `calpha_superimpose_pose` from `pyrosetta.rosetta.core.scoring` to calculate RMSD and align the two poses. \n"
      ],
      "metadata": {
        "id": "wwqCxJcT_8E1"
      }
    },
    {
      "cell_type": "code",
      "source": [
        "### BEGIN SOLUTION\n",
        "\n",
        "### END SOLUTION"
      ],
      "metadata": {
        "id": "GrVP0w_ZG19B"
      },
      "execution_count": null,
      "outputs": []
    }
  ]
}