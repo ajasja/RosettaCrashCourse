{
  "cells": [
    {
      "cell_type": "markdown",
      "metadata": {
        "id": "view-in-github",
        "colab_type": "text"
      },
      "source": [
        "<a href=\"https://colab.research.google.com/github/ajasja/RosettaCrashCourse/blob/main/notebooks/W02_parametric_design.ipynb\" target=\"_parent\"><img src=\"https://colab.research.google.com/assets/colab-badge.svg\" alt=\"Open In Colab\"/></a>"
      ]
    },
    {
      "cell_type": "code",
      "execution_count": null,
      "metadata": {
        "id": "y3cvm9A9AfMa",
        "cellView": "form"
      },
      "outputs": [],
      "source": [
        "#@title Install pyrosetta \n",
        "#@markdown Run cells by clicking on the little ▶ play icon to the left of each cell or by going to Runtime->Run all. \n",
        "\n",
        "#@markdown Enter the user name and password obtained from https://els2.comotion.uw.edu/product/pyrosetta\n",
        "\n",
        "#@markdown The notebook must be connected to Google Drive. \n",
        "\n",
        "#@markdown Author: Ajasja Ljubetič (ajasja.ljubetic@gmail.com), inspired by https://nbviewer.org/github/RosettaCommons/PyRosetta.notebooks\n",
        "\n",
        "\n",
        "#only needed for colabfold\n",
        "!pip install pyrosettacolabsetup py3dmol https://github.com/RosettaCommons/pyrosetta_viewer3d/archive/ajasja/bundle.zip --quiet\n",
        "import pyrosettacolabsetup; pyrosettacolabsetup.install_pyrosetta()\n",
        "\n"
      ]
    },
    {
      "cell_type": "code",
      "execution_count": null,
      "metadata": {
        "id": "aKgrmFh4D15p"
      },
      "outputs": [],
      "source": [
        "#@title Helper functions\n",
        "def view_single(pose):\n",
        "  import py3Dmol\n",
        "  import pyrosetta.distributed.io as io\n",
        "  view = py3Dmol.view(width=500, height=500)\n",
        "  view.addModel(io.to_pdbstring(pose),'pdb')\n",
        "  view.setStyle({'model': 0}, {\"cartoon\": True})\n",
        "  view.addStyle({'model': 0}, {\"stick\": True})\n",
        "  view.zoomTo()\n",
        "  view.show()\n",
        "  return None\n",
        "\n",
        "def compare_poses(pose1, pose2):\n",
        "  import py3Dmol\n",
        "  import pyrosetta.distributed.io as io\n",
        "  view = py3Dmol.view(width=500, height=500)\n",
        "  view.addModel(io.to_pdbstring(pose1),'pdb')\n",
        "  view.addModel(io.to_pdbstring(pose2),'pdb')\n",
        "  view.setStyle({'model': 0}, {\"cartoon\": {'color': 'orange'}})\n",
        "  view.addStyle({'model': 0}, {\"stick\": {'color': 'orange'}})\n",
        "  view.setStyle({'model': 1}, {\"cartoon\": {'color': 'blue'}})\n",
        "  view.addStyle({'model': 1}, {\"stick\": {'color': 'blue'}})\n",
        "  view.zoomTo()\n",
        "  view.show()\n",
        "  return None  \n",
        "\n",
        "  def get_multiple_poses(pose, mover):\n",
        "  \"\"\"Retunrns multiples poses from a multiple pose mover\"\"\"\n",
        "  poses = [pose]\n",
        "  for x in range(0,100):\n",
        "    extra_pose = mover.get_additional_output()\n",
        "    if extra_pose is None:\n",
        "        break\n",
        "    poses.append(extra_pose)   \n",
        "  return poses"
      ]
    },
    {
      "cell_type": "code",
      "execution_count": null,
      "metadata": {
        "id": "JdPCrXV6BiYM"
      },
      "outputs": [],
      "source": [
        "import pyrosetta; # import the pyrosetta package to access functionality\n",
        "import pyrosetta.distributed.io as io\n",
        "pyrosetta.init(\"-corrections::beta_nov16\") # must be called before any other pyrosetta functions. Can accept command line flags\n",
        "import viewer3d"
      ]
    },
    {
      "cell_type": "markdown",
      "metadata": {
        "id": "H15c3jU8BxzI"
      },
      "source": [
        "# Interactive helix bundle builder\n",
        "Rosetta is capable of building coiled-coil backbones. With the magic of Google colab, ipywidgets and PyRosetta even non-experts can interactively play with backbone design. \n"
      ]
    },
    {
      "cell_type": "markdown",
      "metadata": {
        "id": "DtxMT9QDHrZ-"
      },
      "source": [
        "## Bundle parameters ([MakeBundleMover](https://www.rosettacommons.org/docs/latest/scripting_documentation/RosettaScripts/Movers/movers_pages/MakeBundleMover))\n",
        "* **lenght**: lenght of the helix in residues.\n",
        "* **r0**: Major helix radius, in Angstroms.\n",
        "* **omega0**: Major helix twist per residue (in degrees).\n",
        "* **delta_omega1**: Rotation of a helix about its own axis (in degrees).\n",
        "* **invert**: run the helix in the other direction (up vs down).\n",
        "* **z0_offset**: Offset along the global z-axis, in Angstroms.\n",
        "* **z1_offset**: Offset along the superhelical path through space, in Angstroms.\n",
        "W1"
      ]
    },
    {
      "cell_type": "code",
      "execution_count": null,
      "metadata": {
        "id": "hf19_fLK_mVG"
      },
      "outputs": [],
      "source": [
        "v = viewer3d.presets.makeBundle(aa=\"VAL\", num_helices=4, backend=\"py3Dmol\", window_size=(600,600))\n",
        "v.show()"
      ]
    },
    {
      "cell_type": "markdown",
      "metadata": {
        "id": "wm84tk_q-W9u"
      },
      "source": [
        "## TASK 1: Create 5-10 structures by hand\n",
        "Use the interactive viewer to save 5-10 structures by hand. Save the files by clicking on the save PDB button. Make sure to downlaod the files to your computer!\n",
        "\n",
        "Hints:\n",
        "- Use 4 helices.\n",
        "- Set `omega0` to one of common values (-2.85, 0 or 1.82)\n",
        "- `R0` should be between 6 and 7 A.\n",
        "- Keep enough core (orange residues)  "
      ]
    },
    {
      "cell_type": "markdown",
      "metadata": {
        "id": "2d4Jbuz2Sn2o"
      },
      "source": [
        "## TASK 2: Use the MakeBundleMover (from XML) to programatically generate a bundle\n",
        "\n",
        "MakeBundleMover is and example of a mover that is much more convinient to call from XML. Use `XmlObjects.static_get_mover` in `rosetta.protocols.rosetta_scripts` to initate the the mover and programatically use it to generate a bundle. For example write a function that takes a few CC parameters and saves them to a PDB.\n",
        "\n",
        "Hint: Use documentation for make bundle mover [here](https://www.rosettacommons.org/docs/latest/scripting_documentation/RosettaScripts/Movers/movers_pages/MakeBundleMover). You have to set `delta_omega0` for each helix in the subtag."
      ]
    },
    {
      "cell_type": "code",
      "execution_count": null,
      "metadata": {
        "id": "vEykNvCESnYl"
      },
      "outputs": [],
      "source": [
        "### BEGIN SOLUTION\n",
        "from rosetta.protocols.rosetta_scripts import XmlObjects\n",
        "pose=pyrosetta.rosetta.core.pose.Pose()\n",
        "bundle_maker = XmlObjects.static_get_mover('''\n",
        "<MakeBundle name=\"bundle_maker\"\n",
        "                     use_degrees=\"1\"\n",
        "                     helix_length=\"28\"\n",
        "                     r0=\"6.5\"\n",
        "                     omega0=\"-2.85\"\n",
        "                     delta_t=\"0\"\n",
        "                     residue_name=\"ALA\">\n",
        "\n",
        "  <Helix /> #A \n",
        "  <Helix delta_omega0=\"90\"  invert=\"1\" /> #B strand\n",
        "\t<Helix delta_omega0=\"180\" /> #C strand\n",
        "\t<Helix delta_omega0=\"270\" invert=\"1\" /> #D strand\n",
        "</MakeBundle>''')\n",
        "bundle_maker.apply(pose)\n",
        "view_single(pose)\n",
        "print(pose.sequence())\n",
        "\n",
        "scorefxn = pyrosetta.create_score_function('beta_nov16')\n",
        "print(scorefxn(pose))\n",
        "### END SOLUTION"
      ]
    },
    {
      "cell_type": "markdown",
      "metadata": {
        "id": "G1rz7AiUkWa2"
      },
      "source": [
        "## TASK 3: Sampling a parameter\n",
        "\n",
        "Use the function written in TASK 2. Use f-strings to pass the parameters in a foor loop. Hint: use `linspace` form `numpy` module to sample the parameters."
      ]
    },
    {
      "cell_type": "code",
      "execution_count": null,
      "metadata": {
        "id": "RcEB0cug-9Y_"
      },
      "outputs": [],
      "source": [
        "### BEGIN SOLUTION\n",
        "import numpy\n",
        "for i in numpt.linspace(5,7, 6):\n",
        "  pose=pyrosetta.rosetta.core.pose.Pose()\n",
        "  string=f'''\n",
        "  <MOVERS>\n",
        "    <MakeBundle name=\"design_l\"\n",
        "                     helix_length='{i}'\n",
        "                     use_degrees=\"1\"\n",
        "                     r0=\"5\"\n",
        "                     omega0=\"0.00\"\n",
        "                     delta_t=\"0\">\n",
        "\n",
        "  <Helix /> #A \n",
        "  <Helix delta_omega0=\"90\"  invert=\"1\" /> #B strand\n",
        "\t<Helix delta_omega0=\"180\" /> #C strand\n",
        "\t<Helix delta_omega0=\"270\" invert=\"1\" /> #D strand\n",
        "</MakeBundle>\n",
        "    </MOVERS>'''\n",
        "  print(string)\n",
        "  test_mover= XmlObjects.create_from_string(string).get_mover('design_l')\n",
        "  test_mover.apply(pose)\n",
        "  #view_single(pose) \n",
        "### END SOLUTION"
      ]
    },
    {
      "cell_type": "markdown",
      "metadata": {
        "id": "DBP09ynpLhSi"
      },
      "source": [
        "## TASK 4: Choose 5-10 pre-screend backbones\n",
        "\n",
        "To be on the safe side that you will get at least some backbones that can be sucessfully looped and designed, choose 5-10 structures from a [set of pre-screend scaffolds](https://drive.google.com/file/d/1eV1gcWbTIXIsBg39asC7y40rA26hDVsp/view?usp=sharing). These scaffolds have previusly been designsed, so they should be designable. \n"
      ]
    },
    {
      "cell_type": "code",
      "execution_count": null,
      "metadata": {
        "id": "UfKbsiHbslGh"
      },
      "outputs": [],
      "source": [
        ""
      ]
    },
    {
      "cell_type": "markdown",
      "source": [
        "# Loop design\n",
        "There are several methods to design loops. Desing of longer loops is possible but has low sucess rates. Here we will use a fragment-based method whihc is best for shoort loops (up to 5 residues). A database base of loops clustered from the pdb is needed.\n"
      ],
      "metadata": {
        "id": "1IfsYxoxlgLU"
      }
    },
    {
      "cell_type": "code",
      "source": [
        "#@title install database of loops\n",
        "!pip install gdown -q\n",
        "#ss_grouped_vall_helix_shortLoop.h5\n",
        "!gdown 1k0iNO846dl8_KVZ92OEcRyt1MvS8-RL2 \n",
        "#bundle-up-down.pdb\n",
        "!gdown 11NLjlRY2mUCa4lt1wplVPMy424KmNV9f"
      ],
      "metadata": {
        "id": "RhGM4zjc-x3o"
      },
      "execution_count": null,
      "outputs": []
    },
    {
      "cell_type": "code",
      "source": [
        "import pyrosetta; # import the pyrosetta package to access functionality\n",
        "import pyrosetta.distributed.io as io\n",
        "# fragment store must be passed as command line argument\n",
        "# the default sidechain on loops will be ALA\n",
        "# If you have multiple pyrosetta init calls, sometimes things might not work as expected. Runtime -> Restart Runtime would be a clean solution, but it does not seem necessary in this case.\n",
        "pyrosetta.init(\"-corrections::beta_nov16 -indexed_structure_store:fragment_store /content/ss_grouped_vall_helix_shortLoop.h5 -remodel::generic_aa ALA\") \n"
      ],
      "metadata": {
        "id": "K1voiEWFNFhT"
      },
      "execution_count": null,
      "outputs": []
    },
    {
      "cell_type": "markdown",
      "source": [
        "## Near native loop closer\n",
        "Connects two chains with separate chain IDs.\n",
        "This is a **Multiple Pose Mover** so it returns an set of poses.\n",
        "\n",
        "Loops returned are sorted in order of ascending RMSD of loop and helix.\n"
      ],
      "metadata": {
        "id": "fUkL3LjtNvoH"
      }
    },
    {
      "cell_type": "code",
      "source": [
        "# https://new.rosettacommons.org/docs/wiki/scripting_documentation/RosettaScripts/xsd/mover_NearNativeLoopCloser_type\n",
        "from pyrosetta.rosetta.protocols.rosetta_scripts import XmlObjects\n",
        "\n",
        "# For production runs use RMSthreshold=\"0.5\"\n",
        "native_loop = XmlObjects.static_get_mover(f'''<NearNativeLoopCloser  name=\"make_loop\"  \n",
        "loopLengthRange=\"2,5\"  RMSthreshold=\"1\"\n",
        "chainBeforeLoop=\"A\" chainAfterLoop=\"B\"\n",
        "chain=\"A\"\n",
        "output_all=\"1\" max_number_of_results=\"20\"\n",
        "resAdjustmentRangeSide1=\"-3,0\" resAdjustmentRangeSide2=\"-3,0\" \n",
        "allowed_loop_abegos=\"AGBA,ABBA,AGBBA,ABABA,ABBBA,AGABBA,ABBBBA,AGBBBA\" \n",
        "/>''')\n",
        "\n",
        "pose = pyrosetta.io.pose_from_pdb('bundle-up-down.pdb')\n",
        "# Takes about 45 s per loop\n",
        "native_loop.apply(pose)\n",
        "\n",
        "poses = get_multiple_poses(pose, native_loop)\n",
        "  \n",
        "import viewer3d\n",
        "view = viewer3d.init(poses, window_size=(600,600))+ viewer3d.setStyle()\n",
        "\n",
        "view.show()"
      ],
      "metadata": {
        "id": "S3pmVLLNOgTQ"
      },
      "execution_count": null,
      "outputs": []
    },
    {
      "cell_type": "markdown",
      "source": [
        "## Connect chains mover\n",
        "One option would be to manually make each loop. There is also a convenience mover: **`ConnectChainsMover`**. \n",
        "\n",
        "The mover loops all chains according to a specification: \n",
        "\n",
        "- [A+B+C+D] -- makes a single chain bundle\n",
        "- [A+B, C+D] -- make a two-chain heterodimer\n",
        "\n",
        "For each loop it chooses the one with the smallest RMSD, **so only one pose** is returned. \n"
      ],
      "metadata": {
        "id": "EkTfhjD0TF5k"
      }
    },
    {
      "cell_type": "code",
      "source": [
        "\n",
        "# https://new.rosettacommons.org/docs/wiki/scripting_documentation/RosettaScripts/xsd/mover_ConnectChainsMover_type\n",
        "\n",
        "# Adjust chain connections for other problems\n",
        "connect_chains = XmlObjects.static_get_mover(f'''<ConnectChainsMover name=\"make_loops\"  \n",
        "loopLengthRange=\"2,5\" \n",
        "chain_connections=\"[A+B+C+D]\"\n",
        "resAdjustmentRangeSide1=\"-3,0\" resAdjustmentRangeSide2=\"-3,0\" \n",
        "allowed_loop_abegos=\"AGBA,ABBA,AGBBA,ABABA,ABBBA,AGABBA,ABBBBA,AGBBBA\" \n",
        " />''')\n",
        "\n",
        "#This will take about 3 min\n",
        "pose = pyrosetta.io.pose_from_pdb('bundle-up-down.pdb')\n",
        "connect_chains.apply(pose)\n",
        "pose.dump_pdb('bundle-up-down-relooped.pdb')"
      ],
      "metadata": {
        "id": "pPsoO4L1_jRh"
      },
      "execution_count": null,
      "outputs": []
    },
    {
      "cell_type": "code",
      "source": [
        "pose1=pyrosetta.pose_from_file('bundle-up-down-relooped.pdb')\n",
        "pose2=pyrosetta.pose_from_file('bundle-up-down.pdb')\n",
        "compare_poses(pose1, pose2)"
      ],
      "metadata": {
        "id": "h-AQ1V0FAGz7"
      },
      "execution_count": null,
      "outputs": []
    },
    {
      "cell_type": "markdown",
      "source": [
        "## Task: Reloop 10 of your choosen bundles\n",
        "Use the `ConnectChainsMover` to reloop your designs.\n",
        "\n",
        "Use a for loop to load the pdbs and run the mover for each pose.\n",
        "\n",
        "Hint:\n",
        "\n",
        "Use the following code to loop over pdb files:\n",
        "\n",
        "from glob import glob\n",
        "for a_file in glob('*.pdb'):\n",
        "  print(a_file)\n"
      ],
      "metadata": {
        "id": "iZoGXNfGZYIO"
      }
    },
    {
      "cell_type": "code",
      "source": [
        "# get a list of PDBs\n",
        "from glob import glob\n",
        "pdbs = glob('*.pdb')"
      ],
      "metadata": {
        "id": "wx3iQ0v2h3lJ"
      },
      "execution_count": null,
      "outputs": []
    },
    {
      "cell_type": "code",
      "source": [
        "#This will take 30 min to run\n",
        "### BEGIN SOLUTION\n",
        "for pdb in pdbs:\n",
        "  print(pdb)\n",
        "  pose = pyrosetta.pose_from_pdb(pdb)\n",
        "  try:\n",
        "    connect_chains.apply(pose)\n",
        "    pose.dump_pdb('looped_'+pdb)\n",
        "  except: \n",
        "    print(\"Could not reloop \"+pdb)\n",
        "### END SOLUTION"
      ],
      "metadata": {
        "id": "662CPNFEZXzE"
      },
      "execution_count": null,
      "outputs": []
    }
  ],
  "metadata": {
    "colab": {
      "collapsed_sections": [],
      "name": "W02-parametric-design.ipynb",
      "provenance": [],
      "include_colab_link": true
    },
    "kernelspec": {
      "display_name": "Python 3",
      "name": "python3"
    },
    "language_info": {
      "name": "python"
    }
  },
  "nbformat": 4,
  "nbformat_minor": 0
}