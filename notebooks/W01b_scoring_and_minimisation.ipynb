{
  "nbformat": 4,
  "nbformat_minor": 0,
  "metadata": {
    "colab": {
      "name": "W01b-scoring-and-minimisation.ipynb",
      "provenance": [],
      "collapsed_sections": [],
      "include_colab_link": true
    },
    "kernelspec": {
      "name": "python3",
      "display_name": "Python 3"
    },
    "language_info": {
      "name": "python"
    }
  },
  "cells": [
    {
      "cell_type": "markdown",
      "metadata": {
        "id": "view-in-github",
        "colab_type": "text"
      },
      "source": [
        "<a href=\"https://colab.research.google.com/github/ajasja/RosettaCrashCourse/blob/main/notebooks/W01b_scoring_and_minimisation.ipynb\" target=\"_parent\"><img src=\"https://colab.research.google.com/assets/colab-badge.svg\" alt=\"Open In Colab\"/></a>"
      ]
    },
    {
      "cell_type": "code",
      "execution_count": null,
      "metadata": {
        "id": "y3cvm9A9AfMa",
        "cellView": "form"
      },
      "outputs": [],
      "source": [
        "#@title Install pyrosetta \n",
        "#@markdown Run cells by clicking on the little ▶ play icon to the left of each cell or by going to Runtime->Run all. \n",
        "\n",
        "#@markdown Enter the user name and password obtained from https://els2.comotion.uw.edu/product/pyrosetta\n",
        "\n",
        "#@markdown The notebook must be connected to Google Drive. \n",
        "\n",
        "#@markdown Author: Ajasja Ljubetič (ajasja.ljubetic@gmail.com), inspired by https://nbviewer.org/github/RosettaCommons/PyRosetta.notebooks\n",
        "\n",
        "\n",
        "#only needed for colabfold\n",
        "!pip install pyrosettacolabsetup py3dmol git+https://github.com/RosettaCommons/pyrosetta_viewer3d.git\n",
        "import pyrosettacolabsetup; pyrosettacolabsetup.install_pyrosetta()\n",
        "\n"
      ]
    },
    {
      "cell_type": "code",
      "source": [
        "#@title Helper functions\n",
        "def view_single(pose):\n",
        "  import py3Dmol\n",
        "  import pyrosetta.distributed.io as io\n",
        "  view = py3Dmol.view(width=500, height=500)\n",
        "  view.addModel(io.to_pdbstring(pose),'pdb')\n",
        "  view.setStyle({'model': 0}, {\"cartoon\": True})\n",
        "  view.addStyle({'model': 0}, {\"stick\": True})\n",
        "  view.zoomTo()\n",
        "  view.show()\n",
        "  return None\n",
        "\n",
        "def compare_poses(pose1, pose2):\n",
        "  import py3Dmol\n",
        "  import pyrosetta.distributed.io as io\n",
        "  view = py3Dmol.view(width=500, height=500)\n",
        "  view.addModel(io.to_pdbstring(pose1),'pdb')\n",
        "  view.addModel(io.to_pdbstring(pose2),'pdb')\n",
        "  view.setStyle({'model': 0}, {\"cartoon\": {'color': 'orange'}})\n",
        "  view.addStyle({'model': 0}, {\"stick\": {'color': 'orange'}})\n",
        "  view.setStyle({'model': 1}, {\"cartoon\": {'color': 'blue'}})\n",
        "  view.addStyle({'model': 1}, {\"stick\": {'color': 'blue'}})\n",
        "  view.zoomTo()\n",
        "  view.show()\n",
        "  return None  \n"
      ],
      "metadata": {
        "id": "aKgrmFh4D15p",
        "cellView": "form"
      },
      "execution_count": null,
      "outputs": []
    },
    {
      "cell_type": "markdown",
      "source": [
        "# Scoring and minimization\n",
        "A basic function of Rosetta is calculating the energy or score of a biomolecule. Rosetta has a standard energy function for all-atom calculations as well as several scoring functions for low-resolution protein representations. See https://www.ncbi.nlm.nih.gov/pubmed/28430426 for a review on the all-atom score functions.\n",
        "\n",
        "You can also tailor an energy function by including scoring terms of your choice with custom weights."
      ],
      "metadata": {
        "id": "H15c3jU8BxzI"
      }
    },
    {
      "cell_type": "code",
      "source": [
        "import pyrosetta; # import the pyrosetta package to access functionality\n",
        "import pyrosetta.distributed.io as io\n",
        "pyrosetta.init(\"-corrections::beta_nov16\") # must be called before any other pyrosetta functions. Can accept command line flags"
      ],
      "metadata": {
        "id": "JdPCrXV6BiYM"
      },
      "execution_count": null,
      "outputs": []
    },
    {
      "cell_type": "code",
      "source": [
        "sfxn = pyrosetta.create_score_function('beta_nov16')\n",
        "#pritn score function info\n",
        "print(sfxn)"
      ],
      "metadata": {
        "id": "Ed6__vjsboAP"
      },
      "execution_count": null,
      "outputs": []
    },
    {
      "cell_type": "code",
      "source": [
        "#get score function weigths\n",
        "print(sfxn.weights())\n",
        "\n",
        "#with line wrapping\n",
        "print(str(sfxn.weights()).replace(') (',')\\n('))\n",
        "# list of energy terms: https://www.rosettacommons.org/docs/latest/rosetta_basics/scoring/score-types"
      ],
      "metadata": {
        "id": "OoyRm-PDcZzE"
      },
      "execution_count": null,
      "outputs": []
    },
    {
      "cell_type": "code",
      "source": [
        "# Create a pose from sequence. The structure made is extended and not very realistic\n",
        "pose = pyrosetta.pose_from_sequence('TESTTHISEPICLIFE')\n",
        "\n",
        "#score a pose\n",
        "print(sfxn(pose))\n",
        "view_single(pose)\n"
      ],
      "metadata": {
        "id": "s-I6_REuCVwp"
      },
      "execution_count": null,
      "outputs": []
    },
    {
      "cell_type": "markdown",
      "source": [
        "# Minimization\n",
        "The score is very very bad, since side chains are clashing with backbone. It's posible to minimize different degrees of freedom, for example only side chains or only backbone dihedrals. \n",
        "\n",
        "Usually minimisation is done in internal coordinates, **cartesian** minimimisation is done in cartesian space (x,y,z coordinates). Which one do you think is faster?"
      ],
      "metadata": {
        "id": "g7iijiSlKXa2"
      }
    },
    {
      "cell_type": "code",
      "source": [
        "from pyrosetta.rosetta.core.kinematics import MoveMap\n",
        "from pyrosetta.rosetta.protocols.minimization_packing import MinMover\n",
        "\n",
        "scorefxn = pyrosetta.create_score_function('beta_nov16')\n",
        "#move maps tells minimizer which atoms (degrees of freedom can move)\n",
        "mm_sidechains = MoveMap()\n",
        "#Minimise side chains\n",
        "mm_sidechains.set_chi(True)\n",
        "#Don't move backbone \n",
        "mm_sidechains.set_bb(False)\n",
        "#create min mover                               #Minimzation type         #tolerance     \n",
        "minmover_sc = MinMover(mm_sidechains, scorefxn, 'lbfgs_armijo_nonmonotone', 0.0001, True)\n",
        "#disable cartesian minimisation\n",
        "minmover_sc.cartesian(False)\n",
        "#Maximum number of iterations\n",
        "minmover_sc.max_iter(2000)\n"
      ],
      "metadata": {
        "id": "A0PA9u1EFXid"
      },
      "execution_count": null,
      "outputs": []
    },
    {
      "cell_type": "code",
      "source": [
        "#copy pose\n",
        "pose_min = pose.clone()\n",
        "#Mover changes the pose\n",
        "minmover_sc.apply(pose_min)\n",
        "print(scorefxn(pose_min))"
      ],
      "metadata": {
        "id": "45zokHwijS8e"
      },
      "execution_count": null,
      "outputs": []
    },
    {
      "cell_type": "markdown",
      "source": [
        "## Calling XML scripts\n",
        "Sometimes it is easier to get functunality from Rosetta XML scripts. For example the documnetation is **MUCH** better and there is no need to figure out the name space (eg `pyrosetta.rosetta.protocols.minimization_packing.MinMover`). For example the documentation of all the movers is [here](https://new.rosettacommons.org/docs/latest/scripting_documentation/RosettaScripts/Movers/Movers-RosettaScripts)."
      ],
      "metadata": {
        "id": "8gW3I0uQCeUM"
      }
    },
    {
      "cell_type": "code",
      "source": [
        "from rosetta.protocols.rosetta_scripts import XmlObjects\n",
        "minmover_sc_xml = XmlObjects.static_get_mover('''<MinMover name=\"min_all_sc\" \n",
        "        max_iter=\"2000\"\n",
        "        type=\"lbfgs_armijo_nonmonotone\"\n",
        "        tolerance=\"0.0001\" cartesian=\"0\"\n",
        "        chi=\"1\"\n",
        "        bb=\"0\"  />''')\n",
        "minmover_sc_xml.score_function(scorefxn)\n",
        "#copy pose\n",
        "pose_min_xml = pose.clone()\n",
        "#Mover changes the pose\n",
        "minmover_sc_xml.apply(pose_min_xml)\n",
        "print(scorefxn(pose_min_xml))"
      ],
      "metadata": {
        "id": "Y-tQ7lil-2T0"
      },
      "execution_count": null,
      "outputs": []
    },
    {
      "cell_type": "markdown",
      "source": [
        "## TASK: Print the score of the minimized pose.\n",
        "What do you see? Also calculate the score per residue by deviding the total score by the number of residues. For stable helical structures the expected `score_per_res` is between -2 and -3.5 units. Is the backbone structure optimal? You can also show the pose using the `view_single` helper function.\n"
      ],
      "metadata": {
        "id": "IeJPE6wqmhru"
      }
    },
    {
      "cell_type": "code",
      "source": [
        "### BEGIN SOLUTION\n",
        "print(scorefxn(pose_min))\n",
        "print(scorefxn(pose_min)/pose_min.total_residue())\n",
        "### END SOLUTION"
      ],
      "metadata": {
        "id": "hAR_Ohstk4yQ"
      },
      "execution_count": null,
      "outputs": []
    },
    {
      "cell_type": "markdown",
      "source": [
        "## TASK: Minimize including the backbone\n",
        "What do you notice? Is the score lower?  \n"
      ],
      "metadata": {
        "id": "mBHt-NVg8YoB"
      }
    },
    {
      "cell_type": "code",
      "source": [
        "### BEGIN SOLUTION\n",
        "minmover_bb_xml = XmlObjects.static_get_mover('''<MinMover name=\"min_all_bb\" \n",
        "        max_iter=\"2000\"\n",
        "        type=\"lbfgs_armijo_nonmonotone\"\n",
        "        tolerance=\"0.0001\" cartesian=\"0\"\n",
        "        chi=\"1\"\n",
        "        bb=\"1\"  />''')\n",
        "minmover_bb_xml.score_function(scorefxn)\n",
        "\n",
        "pose_min_backbone=pose.clone()\n",
        "minmover_bb_xml.apply(pose_min_backbone)\n",
        "#view_single(pose_min_backbone)\n",
        "print(scorefxn(pose_min_backbone))\n",
        "print(scorefxn(pose_min_backbone)/pose_min_backbone.total_residue())\n",
        "### END SOLUTION"
      ],
      "metadata": {
        "id": "TQVZNscj8YoL"
      },
      "execution_count": null,
      "outputs": []
    },
    {
      "cell_type": "markdown",
      "source": [
        "## TASK: Minimize including the backbone with cartesian minimisation\n",
        "Cartesian minimization needs a cartesian function! \n",
        "\n",
        "What do you notice? Is the score lower?  "
      ],
      "metadata": {
        "id": "wm84tk_q-W9u"
      }
    },
    {
      "cell_type": "code",
      "source": [
        "scorefxn_cart =  pyrosetta.create_score_function('beta_nov16_cart')\n",
        "### BEGIN SOLUTION\n",
        "pose_min_cart=pose.clone()\n",
        "minmover_bb_xml.apply(pose_min_cart)\n",
        "#view_single(pose_min_cart)\n",
        "print(scorefxn(pose_min_cart))\n",
        "print(scorefxn_cart(pose_min_cart))\n",
        "### END SOLUTION"
      ],
      "metadata": {
        "id": "8dt0pFtv-W93"
      },
      "execution_count": null,
      "outputs": []
    },
    {
      "cell_type": "markdown",
      "source": [
        "## Bonus task: Set the backbone to helical conformation, minimize side chains and compare the score. \n",
        "Minimize also the backbone and sidechains and calculuate the RMSD. Is this structure more stable?"
      ],
      "metadata": {
        "id": "2d4Jbuz2Sn2o"
      }
    },
    {
      "cell_type": "code",
      "source": [
        "### BEGIN SOLUTION\n",
        "from rosetta.core.scoring import CA_rmsd\n",
        "pose_helix_min = pose.clone()\n",
        "pose_helix=pose.clone()\n",
        "for i in range (1, pose_helix.total_residue()+1):\n",
        "  pose.set_phi(seqpos=i,setting=-60)\n",
        "  pose.set_psi(seqpos=i,setting=-50)\n",
        "\n",
        "minmover_bb_xml.apply(pose_helix_min)\n",
        "print('Score of forced helix pose',scorefxn(pose_helix))\n",
        "print('Score of bb/sc minimized forced helix pose',scorefxn(pose_helix_min))\n",
        "print('RMSD',CA_rmsd(pose_helix,pose_helix_min))\n",
        "print(scorefxn(pose_min))\n",
        "view_single(pose_helix_min)\n",
        "### END SOLUTION"
      ],
      "metadata": {
        "id": "vEykNvCESnYl"
      },
      "execution_count": null,
      "outputs": []
    },
    {
      "cell_type": "markdown",
      "source": [
        "# Bonus task: Predict the structe of the peptide using Alphafold (in this notebook). \n",
        "Upload the PDB file back to this notebook, minimize the structure and compare the results. Minimize also the backbone and sidechains and calculuate the RMSD. Is this structure more stable?"
      ],
      "metadata": {
        "id": "G1rz7AiUkWa2"
      }
    },
    {
      "cell_type": "code",
      "source": [
        "### BEGIN SOLUTION\n",
        "from pyrosetta.io import pose_from_pdb\n",
        "AF_pose = pose_from_pdb(',PATH TO POSE HERE')\n",
        "AF_pose_min = AF_pose.clone()\n",
        "minmover_bb_xml.apply(AF_pose_min)\n",
        "print('score of minimized AF2 pose',scorefxn(AF_pose_min))\n",
        "RMSD = CA_rmsd(pose_helix_min,AF_pose_min) \n",
        "print ('RMSD',RMSD)\n",
        "view_single(AF_pose_min)\n",
        "### END SOLUTION"
      ],
      "metadata": {
        "id": "RcEB0cug-9Y_"
      },
      "execution_count": null,
      "outputs": []
    },
    {
      "cell_type": "markdown",
      "source": [
        "# Packing\n",
        "Packing (or repacking) is the process of choosing new rotamers. Behind the scenes it's an annealed Monte-Carlo simulation. Repacking can cross large energy bariers that local minimization methods cannot.\n",
        "\n",
        "\n"
      ],
      "metadata": {
        "id": "W_M4AkNHa03D"
      }
    },
    {
      "cell_type": "code",
      "source": [
        "from pyrosetta.rosetta.core.pack.task import TaskFactory\n",
        "from pyrosetta.rosetta.core.pack.task import operation\n",
        "from pyrosetta.rosetta.protocols.minimization_packing import PackRotamersMover \n",
        "\n",
        "# Taks factory tells the packer what to do\n",
        "tf = TaskFactory()\n",
        "# Do not change amono acid types (so ALA remains ALA)\n",
        "tf.push_back(operation.RestrictToRepacking())\n",
        "\n",
        "\n",
        "packer = PackRotamersMover()\n",
        "packer.task_factory(tf)\n",
        "packer.score_function(scorefxn)\n",
        "\n",
        "\n",
        "pose_pack = pose.clone()\n",
        "packer.apply(pose_pack)\n",
        "\n",
        "#print what the packer will do\n",
        "print(packer.task())\n",
        "\n",
        "print(scorefxn(pose_pack))\n",
        "view_single(pose_pack).show()"
      ],
      "metadata": {
        "id": "dXhiZia4ljlq"
      },
      "execution_count": null,
      "outputs": []
    },
    {
      "cell_type": "markdown",
      "source": [
        "# Quick intro to design\n",
        "The packer can be used for design -> i.e. changing the amino acid residue types. By default it is set to change any residue into any other residue while minimizing the score\n",
        "\n",
        "Controlling what the packer does is 80% of using Rosetta! :) \n",
        "\n"
      ],
      "metadata": {
        "id": "Xe_Zcfw2oegw"
      }
    },
    {
      "cell_type": "code",
      "source": [
        "# By default the packer does design. \n",
        "packer = PackRotamersMover()\n",
        "packer.score_function(scorefxn)\n",
        "\n",
        "pose_design = pose.clone()\n",
        "print(packer.task())\n",
        "\n",
        "\n",
        "packer.apply(pose_design)\n",
        "#print what the packer has done\n",
        "print(packer.task())\n",
        "\n",
        "print(scorefxn(pose_design))\n",
        "print(pose.sequence())\n",
        "print(pose_design.sequence())\n",
        "\n",
        "view_single(pose_design)"
      ],
      "metadata": {
        "id": "L4m28QBeaBJy"
      },
      "execution_count": null,
      "outputs": []
    },
    {
      "cell_type": "markdown",
      "source": [
        "## Task: set the pose into helical shape and redesign the sequence\n",
        "What do you observe? What is the RMSD if you minimize the sidechains and the backbone+sidechains? "
      ],
      "metadata": {
        "id": "ierks8rYdbhh"
      }
    },
    {
      "cell_type": "code",
      "source": [
        "### BEGIN SOLUTION\n",
        "pose_helix_redesign = pose.clone()\n",
        "for i in range(1, pose_helix_redesign.total_residue()+1):\n",
        "  pose_helix_redesign.set_phi(i, -60)\n",
        "  pose_helix_redesign.set_psi(i, -50)\n",
        "\n",
        "\n",
        "packer = PackRotamersMover()\n",
        "packer.score_function(scorefxn)\n",
        "packer.apply(pose_helix_redesign)\n",
        "\n",
        "pose_helix_redesign_min = pose_helix_redesign.clone()\n",
        "minmover_bb_xml.apply(pose_helix_redesign_min)\n",
        "\n",
        "print('Score of redesigned helix: ',scorefxn(pose_helix_redesign), 'Score of minimized redesigned helix: ',scorefxn(pose_helix_redesign_min))\n",
        "print('RMSD', CA_rmsd(pose_helix_redesign,pose_helix_redesign_min) )\n",
        "print('Redesigned sequence: ',pose_helix_redesign.sequence(), 'Input sequence', pose.sequence())\n",
        "\n",
        "view_single(pose_helix_redesign)\n",
        "view_single(pose_helix_redesign_min)\n",
        "\n",
        "### END SOLUTION"
      ],
      "metadata": {
        "id": "lFAcqX-9dRia"
      },
      "execution_count": null,
      "outputs": []
    }
  ]
}